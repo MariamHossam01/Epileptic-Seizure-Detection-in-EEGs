{
 "cells": [
  {
   "cell_type": "code",
   "execution_count": 1,
   "metadata": {},
   "outputs": [],
   "source": [
    "import pandas as pd\n",
    "from sklearn import svm\n",
    "from sklearn.model_selection import train_test_split\n",
    "from sklearn.metrics import accuracy_score"
   ]
  },
  {
   "cell_type": "code",
   "execution_count": 2,
   "metadata": {},
   "outputs": [],
   "source": [
    "# Load the CSV file using pandas\n",
    "data = pd.read_csv('reduced_data.csv')\n",
    "\n",
    "# Separate the features (X) and the target variable (y)\n",
    "X = data.drop('target', axis=1)\n",
    "y = data['target']"
   ]
  },
  {
   "cell_type": "code",
   "execution_count": 4,
   "metadata": {},
   "outputs": [
    {
     "name": "stdout",
     "output_type": "stream",
     "text": [
      "Accuracy: 0.9962835326711265\n"
     ]
    }
   ],
   "source": [
    "# Split the data into training and testing sets\n",
    "X_train, X_test, y_train, y_test = train_test_split(X, y, test_size=0.3, random_state=42)\n",
    "\n",
    "# Initialize the SVM classifier\n",
    "classifier = svm.SVC()\n",
    "\n",
    "# Train the SVM classifier\n",
    "classifier.fit(X_train, y_train)\n",
    "\n",
    "# Make predictions on the test set\n",
    "y_pred = classifier.predict(X_test)\n",
    "\n",
    "# Evaluate the accuracy of the classifier\n",
    "accuracy = accuracy_score(y_test, y_pred)\n",
    "print(\"Accuracy:\", accuracy)"
   ]
  },
  {
   "cell_type": "code",
   "execution_count": 5,
   "metadata": {},
   "outputs": [],
   "source": [
    "from sklearn.model_selection import LeaveOneOut, cross_val_score\n",
    "from sklearn.model_selection import StratifiedKFold, cross_val_score\n",
    "import matplotlib.pyplot as plt \n",
    "\n",
    "def k_folds_cross_val(folds_num,classifier,X, Y):\n",
    "\n",
    "    sk_folds = StratifiedKFold(n_splits = folds_num)\n",
    "    scores = cross_val_score(classifier, X ,Y, cv = sk_folds)\n",
    "\n",
    "    # print(\"Cross Validation Scores: \", scores)\n",
    "    # print(\"Average CV Score: \", scores.mean())\n",
    "    # print(\"Number of CV Scores used in Average: \", len(scores))\n",
    "\n",
    "    return scores\n",
    "\n",
    "def LeaveOneOut_cross_val(classifier,X, Y):\n",
    "    \n",
    "    loo = LeaveOneOut()\n",
    "\n",
    "    scores = cross_val_score(classifier,X, Y, cv = loo)\n",
    "\n",
    "    # print(\"Cross Validation Scores: \", scores)\n",
    "    # print(\"Average CV Score: \", scores.mean())\n",
    "    # print(\"Number of CV Scores used in Average: \", len(scores))\n",
    "\n",
    "    return scores\n",
    "\n",
    "def cross_val(classifier,X, Y):\n",
    "    \n",
    "    scores=[]\n",
    "    for folds_num in range (5,20,5):\n",
    "      K_scores= k_folds_cross_val(folds_num,classifier,X, Y)\n",
    "      scores.append(K_scores.mean())\n",
    "    print(scores)\n",
    "    plt.figure(figsize=(10, 6))\n",
    "    plt.plot(range (5,20,5), scores, color='orange', linestyle='dashed', marker='o',markerfacecolor='yellow', markersize=10)\n",
    "    plt.xlabel('Folds Num')\n",
    "    plt.ylabel('Cross val Score')\n",
    "\n",
    "    # LeaveOneOut_scores=LeaveOneOut_cross_val(classifier,X, Y)\n",
    "    # plt.figure(figsize=(10, 6))\n",
    "    # plt.plot(range(len(LeaveOneOut_scores)), LeaveOneOut_scores, color='orange', linestyle='dashed', marker='o',markerfacecolor='yellow', markersize=10)\n",
    "\n",
    "cross_val(classifier,X, y )"
   ]
  },
  {
   "cell_type": "code",
   "execution_count": null,
   "metadata": {},
   "outputs": [],
   "source": [
    "import numpy as np\n",
    "import matplotlib.pyplot as plt\n",
    "from sklearn.model_selection import learning_curve\n",
    "def PlotlearningCurve(classifier,x,y):\n",
    "    #  Learning Curve and Scores\n",
    "    train_sizes, train_scores, test_scores = learning_curve(classifier,x,y, cv=5, scoring='accuracy'\n",
    "                                                                , n_jobs=-1, train_sizes=np.linspace(0.01, 1.0, 50))\n",
    "    train_mean = np.mean(train_scores, axis=1)\n",
    "    train_std = np.std(train_scores, axis=1)\n",
    "\n",
    "    test_mean = np.mean(test_scores, axis=1)\n",
    "    test_std = np.std(test_scores, axis=1)\n",
    "    # Ploting the Learning Curve\n",
    "    plt.subplots(1, figsize=(10,10))\n",
    "    plt.plot(train_sizes, train_mean, '--', color=\"#111111\",  label=\"Training score\")\n",
    "    plt.plot(train_sizes, test_mean, color=\"#111111\", label=\"Cross-validation score\")\n",
    "\n",
    "    plt.fill_between(train_sizes, train_mean - train_std, train_mean + train_std, color=\"#DDDDDD\")\n",
    "    plt.fill_between(train_sizes, test_mean - test_std, test_mean + test_std, color=\"#DDDDDD\")\n",
    "\n",
    "    plt.title(\"Learning Curve\")\n",
    "    plt.xlabel(\"Training Set Size\"), plt.ylabel(\"Accuracy Score\"), plt.legend(loc=\"best\")\n",
    "    plt.tight_layout()\n",
    "    plt.show()\n",
    "\n",
    "PlotlearningCurve(classifier,X,y)"
   ]
  }
 ],
 "metadata": {
  "kernelspec": {
   "display_name": "Python 3",
   "language": "python",
   "name": "python3"
  },
  "language_info": {
   "codemirror_mode": {
    "name": "ipython",
    "version": 3
   },
   "file_extension": ".py",
   "mimetype": "text/x-python",
   "name": "python",
   "nbconvert_exporter": "python",
   "pygments_lexer": "ipython3",
   "version": "3.10.2"
  },
  "orig_nbformat": 4
 },
 "nbformat": 4,
 "nbformat_minor": 2
}
