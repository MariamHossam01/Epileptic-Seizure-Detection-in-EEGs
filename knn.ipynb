{
 "cells": [
  {
   "cell_type": "code",
   "execution_count": 42,
   "id": "f71aaf45",
   "metadata": {},
   "outputs": [],
   "source": [
    "import pandas as pd\n",
    "import seaborn as sns \n",
    "import matplotlib.pyplot as plt \n",
    "from sklearn.preprocessing import StandardScaler\n",
    "from sklearn.model_selection import train_test_split \n",
    "from sklearn.neighbors import KNeighborsClassifier  \n",
    "from sklearn.metrics import precision_score\n",
    "from sklearn.metrics import recall_score\n"
   ]
  },
  {
   "cell_type": "code",
   "execution_count": 43,
   "id": "79a33788",
   "metadata": {},
   "outputs": [],
   "source": [
    "df = pd.read_csv('reduced_data.csv')"
   ]
  },
  {
   "cell_type": "code",
   "execution_count": 44,
   "id": "323edc5b",
   "metadata": {},
   "outputs": [
    {
     "data": {
      "text/html": [
       "<div>\n",
       "<style scoped>\n",
       "    .dataframe tbody tr th:only-of-type {\n",
       "        vertical-align: middle;\n",
       "    }\n",
       "\n",
       "    .dataframe tbody tr th {\n",
       "        vertical-align: top;\n",
       "    }\n",
       "\n",
       "    .dataframe thead th {\n",
       "        text-align: right;\n",
       "    }\n",
       "</style>\n",
       "<table border=\"1\" class=\"dataframe\">\n",
       "  <thead>\n",
       "    <tr style=\"text-align: right;\">\n",
       "      <th></th>\n",
       "      <th>ch1_delta_power</th>\n",
       "      <th>ch1_delta_entropy</th>\n",
       "      <th>ch1_delta_skewness</th>\n",
       "      <th>ch1_theta_power</th>\n",
       "      <th>ch1_theta_entropy</th>\n",
       "      <th>ch1_theta_skewness</th>\n",
       "      <th>ch1_alpha_power</th>\n",
       "      <th>ch1_alpha_entropy</th>\n",
       "      <th>ch1_alpha_skewness</th>\n",
       "      <th>ch1_beta_power</th>\n",
       "      <th>...</th>\n",
       "      <th>ch23_std</th>\n",
       "      <th>ch23_kurtosis</th>\n",
       "      <th>ch23_ptp</th>\n",
       "      <th>ch23_var</th>\n",
       "      <th>ch23_max</th>\n",
       "      <th>ch23_min</th>\n",
       "      <th>ch23_argmax</th>\n",
       "      <th>ch23_argmin</th>\n",
       "      <th>ch23_rms</th>\n",
       "      <th>target</th>\n",
       "    </tr>\n",
       "  </thead>\n",
       "  <tbody>\n",
       "    <tr>\n",
       "      <th>0</th>\n",
       "      <td>3.956675e-10</td>\n",
       "      <td>7.242834</td>\n",
       "      <td>1.225086</td>\n",
       "      <td>3.008743e-10</td>\n",
       "      <td>7.376720</td>\n",
       "      <td>0.058185</td>\n",
       "      <td>5.412620e-11</td>\n",
       "      <td>7.562993</td>\n",
       "      <td>-0.706714</td>\n",
       "      <td>8.335448e-11</td>\n",
       "      <td>...</td>\n",
       "      <td>0.000011</td>\n",
       "      <td>1.081940</td>\n",
       "      <td>0.000087</td>\n",
       "      <td>1.240582e-10</td>\n",
       "      <td>-0.000048</td>\n",
       "      <td>0.000040</td>\n",
       "      <td>4259</td>\n",
       "      <td>3555</td>\n",
       "      <td>0.000011</td>\n",
       "      <td>0</td>\n",
       "    </tr>\n",
       "    <tr>\n",
       "      <th>1</th>\n",
       "      <td>7.738383e-10</td>\n",
       "      <td>7.451562</td>\n",
       "      <td>-0.371714</td>\n",
       "      <td>1.088606e-09</td>\n",
       "      <td>7.643583</td>\n",
       "      <td>-0.014556</td>\n",
       "      <td>9.561639e-10</td>\n",
       "      <td>7.819361</td>\n",
       "      <td>0.073699</td>\n",
       "      <td>7.457113e-10</td>\n",
       "      <td>...</td>\n",
       "      <td>0.000027</td>\n",
       "      <td>7.460651</td>\n",
       "      <td>0.000362</td>\n",
       "      <td>7.519351e-10</td>\n",
       "      <td>-0.000249</td>\n",
       "      <td>0.000113</td>\n",
       "      <td>299</td>\n",
       "      <td>457</td>\n",
       "      <td>0.000027</td>\n",
       "      <td>0</td>\n",
       "    </tr>\n",
       "    <tr>\n",
       "      <th>2</th>\n",
       "      <td>3.205693e-11</td>\n",
       "      <td>7.737866</td>\n",
       "      <td>0.255901</td>\n",
       "      <td>3.220042e-11</td>\n",
       "      <td>7.713914</td>\n",
       "      <td>-0.155246</td>\n",
       "      <td>1.735705e-11</td>\n",
       "      <td>7.685807</td>\n",
       "      <td>0.257462</td>\n",
       "      <td>4.116156e-11</td>\n",
       "      <td>...</td>\n",
       "      <td>0.000006</td>\n",
       "      <td>0.373968</td>\n",
       "      <td>0.000042</td>\n",
       "      <td>3.889933e-11</td>\n",
       "      <td>-0.000024</td>\n",
       "      <td>0.000019</td>\n",
       "      <td>2723</td>\n",
       "      <td>2444</td>\n",
       "      <td>0.000006</td>\n",
       "      <td>0</td>\n",
       "    </tr>\n",
       "    <tr>\n",
       "      <th>3</th>\n",
       "      <td>1.048938e-09</td>\n",
       "      <td>7.140633</td>\n",
       "      <td>1.328580</td>\n",
       "      <td>5.780207e-10</td>\n",
       "      <td>7.747784</td>\n",
       "      <td>0.266691</td>\n",
       "      <td>6.165442e-10</td>\n",
       "      <td>7.822946</td>\n",
       "      <td>-0.173683</td>\n",
       "      <td>6.483178e-10</td>\n",
       "      <td>...</td>\n",
       "      <td>0.000038</td>\n",
       "      <td>6.950893</td>\n",
       "      <td>0.000559</td>\n",
       "      <td>1.442051e-09</td>\n",
       "      <td>-0.000349</td>\n",
       "      <td>0.000210</td>\n",
       "      <td>2045</td>\n",
       "      <td>2050</td>\n",
       "      <td>0.000038</td>\n",
       "      <td>0</td>\n",
       "    </tr>\n",
       "    <tr>\n",
       "      <th>4</th>\n",
       "      <td>1.225959e-08</td>\n",
       "      <td>7.647742</td>\n",
       "      <td>0.221012</td>\n",
       "      <td>2.023000e-08</td>\n",
       "      <td>7.697598</td>\n",
       "      <td>0.158476</td>\n",
       "      <td>6.665467e-09</td>\n",
       "      <td>7.695178</td>\n",
       "      <td>0.218040</td>\n",
       "      <td>1.326436e-08</td>\n",
       "      <td>...</td>\n",
       "      <td>0.000066</td>\n",
       "      <td>0.502647</td>\n",
       "      <td>0.000401</td>\n",
       "      <td>4.342763e-09</td>\n",
       "      <td>-0.000171</td>\n",
       "      <td>0.000230</td>\n",
       "      <td>3837</td>\n",
       "      <td>4248</td>\n",
       "      <td>0.000066</td>\n",
       "      <td>0</td>\n",
       "    </tr>\n",
       "  </tbody>\n",
       "</table>\n",
       "<p>5 rows × 507 columns</p>\n",
       "</div>"
      ],
      "text/plain": [
       "   ch1_delta_power  ch1_delta_entropy  ch1_delta_skewness  ch1_theta_power  \\\n",
       "0     3.956675e-10           7.242834            1.225086     3.008743e-10   \n",
       "1     7.738383e-10           7.451562           -0.371714     1.088606e-09   \n",
       "2     3.205693e-11           7.737866            0.255901     3.220042e-11   \n",
       "3     1.048938e-09           7.140633            1.328580     5.780207e-10   \n",
       "4     1.225959e-08           7.647742            0.221012     2.023000e-08   \n",
       "\n",
       "   ch1_theta_entropy  ch1_theta_skewness  ch1_alpha_power  ch1_alpha_entropy  \\\n",
       "0           7.376720            0.058185     5.412620e-11           7.562993   \n",
       "1           7.643583           -0.014556     9.561639e-10           7.819361   \n",
       "2           7.713914           -0.155246     1.735705e-11           7.685807   \n",
       "3           7.747784            0.266691     6.165442e-10           7.822946   \n",
       "4           7.697598            0.158476     6.665467e-09           7.695178   \n",
       "\n",
       "   ch1_alpha_skewness  ch1_beta_power  ...  ch23_std  ch23_kurtosis  ch23_ptp  \\\n",
       "0           -0.706714    8.335448e-11  ...  0.000011       1.081940  0.000087   \n",
       "1            0.073699    7.457113e-10  ...  0.000027       7.460651  0.000362   \n",
       "2            0.257462    4.116156e-11  ...  0.000006       0.373968  0.000042   \n",
       "3           -0.173683    6.483178e-10  ...  0.000038       6.950893  0.000559   \n",
       "4            0.218040    1.326436e-08  ...  0.000066       0.502647  0.000401   \n",
       "\n",
       "       ch23_var  ch23_max  ch23_min  ch23_argmax  ch23_argmin  ch23_rms  \\\n",
       "0  1.240582e-10 -0.000048  0.000040         4259         3555  0.000011   \n",
       "1  7.519351e-10 -0.000249  0.000113          299          457  0.000027   \n",
       "2  3.889933e-11 -0.000024  0.000019         2723         2444  0.000006   \n",
       "3  1.442051e-09 -0.000349  0.000210         2045         2050  0.000038   \n",
       "4  4.342763e-09 -0.000171  0.000230         3837         4248  0.000066   \n",
       "\n",
       "   target  \n",
       "0       0  \n",
       "1       0  \n",
       "2       0  \n",
       "3       0  \n",
       "4       0  \n",
       "\n",
       "[5 rows x 507 columns]"
      ]
     },
     "execution_count": 44,
     "metadata": {},
     "output_type": "execute_result"
    }
   ],
   "source": [
    "df.head()"
   ]
  },
  {
   "cell_type": "code",
   "execution_count": 45,
   "id": "dae84291",
   "metadata": {},
   "outputs": [
    {
     "data": {
      "text/plain": [
       "ch1_delta_power       8.541202e-17\n",
       "ch1_delta_entropy     1.690603e-01\n",
       "ch1_delta_skewness    6.275140e-01\n",
       "ch1_theta_power       1.504816e-16\n",
       "ch1_theta_entropy     1.167855e-01\n",
       "                          ...     \n",
       "ch23_min              5.802276e-08\n",
       "ch23_argmax           2.484984e+06\n",
       "ch23_argmin           2.756492e+06\n",
       "ch23_rms              3.946340e-09\n",
       "target                2.509653e-01\n",
       "Length: 507, dtype: float64"
      ]
     },
     "execution_count": 45,
     "metadata": {},
     "output_type": "execute_result"
    }
   ],
   "source": [
    "df.var()"
   ]
  },
  {
   "cell_type": "code",
   "execution_count": 46,
   "id": "d5e271af",
   "metadata": {},
   "outputs": [
    {
     "data": {
      "text/plain": [
       "ch1_delta_power       0\n",
       "ch1_delta_entropy     0\n",
       "ch1_delta_skewness    0\n",
       "ch1_theta_power       0\n",
       "ch1_theta_entropy     0\n",
       "                     ..\n",
       "ch23_min              0\n",
       "ch23_argmax           0\n",
       "ch23_argmin           0\n",
       "ch23_rms              0\n",
       "target                0\n",
       "Length: 507, dtype: int64"
      ]
     },
     "execution_count": 46,
     "metadata": {},
     "output_type": "execute_result"
    }
   ],
   "source": [
    "df.isna().sum()"
   ]
  },
  {
   "cell_type": "code",
   "execution_count": 47,
   "id": "fc6412b8",
   "metadata": {},
   "outputs": [],
   "source": [
    "x= df.drop(['target'],axis=1)\n",
    "y= df['target']"
   ]
  },
  {
   "cell_type": "code",
   "execution_count": 48,
   "id": "ae70ac66",
   "metadata": {},
   "outputs": [],
   "source": [
    "X_train, X_test, y_train, y_test = train_test_split(x, y, test_size=0.25,random_state=42)\n",
    "\n",
    "scaler = StandardScaler()\n",
    "X_train = scaler.fit_transform(X_train)\n",
    "X_test = scaler.transform(X_test)"
   ]
  },
  {
   "cell_type": "code",
   "execution_count": 49,
   "id": "398003fe",
   "metadata": {},
   "outputs": [
    {
     "data": {
      "text/plain": [
       "Text(0, 0.5, 'MSE')"
      ]
     },
     "execution_count": 49,
     "metadata": {},
     "output_type": "execute_result"
    },
    {
     "data": {
      "image/png": "[encoded data removed]",
      "text/plain": [
       "<Figure size 1000x600 with 1 Axes>"
      ]
     },
     "metadata": {},
     "output_type": "display_data"
    }
   ],
   "source": [
    "from sklearn.metrics import mean_squared_error\n",
    "error = []\n",
    "# Calculating error for K values between 1 and 30\n",
    "for i in range(1, 30):\n",
    "    knn = KNeighborsClassifier(n_neighbors=i)\n",
    "    knn.fit(X_train, y_train)\n",
    "    pred= knn.predict(X_test)\n",
    "    error.append(mean_squared_error(y_test,pred))\n",
    "\n",
    "plt.figure(figsize=(10, 6))\n",
    "plt.plot(range(1, 30), error, color='red', linestyle='dashed', marker='o',\n",
    "         markerfacecolor='blue', markersize=10)\n",
    "plt.xlabel('K Value')\n",
    "plt.ylabel('MSE')"
   ]
  },
  {
   "cell_type": "code",
   "execution_count": 65,
   "id": "883f413a",
   "metadata": {},
   "outputs": [
    {
     "data": {
      "text/html": [
       "<style>#sk-container-id-10 {color: black;background-color: white;}#sk-container-id-10 pre{padding: 0;}#sk-container-id-10 div.sk-toggleable {background-color: white;}#sk-container-id-10 label.sk-toggleable__label {cursor: pointer;display: block;width: 100%;margin-bottom: 0;padding: 0.3em;box-sizing: border-box;text-align: center;}#sk-container-id-10 label.sk-toggleable__label-arrow:before {content: \"▸\";float: left;margin-right: 0.25em;color: #696969;}#sk-container-id-10 label.sk-toggleable__label-arrow:hover:before {color: black;}#sk-container-id-10 div.sk-estimator:hover label.sk-toggleable__label-arrow:before {color: black;}#sk-container-id-10 div.sk-toggleable__content {max-height: 0;max-width: 0;overflow: hidden;text-align: left;background-color: #f0f8ff;}#sk-container-id-10 div.sk-toggleable__content pre {margin: 0.2em;color: black;border-radius: 0.25em;background-color: #f0f8ff;}#sk-container-id-10 input.sk-toggleable__control:checked~div.sk-toggleable__content {max-height: 200px;max-width: 100%;overflow: auto;}#sk-container-id-10 input.sk-toggleable__control:checked~label.sk-toggleable__label-arrow:before {content: \"▾\";}#sk-container-id-10 div.sk-estimator input.sk-toggleable__control:checked~label.sk-toggleable__label {background-color: #d4ebff;}#sk-container-id-10 div.sk-label input.sk-toggleable__control:checked~label.sk-toggleable__label {background-color: #d4ebff;}#sk-container-id-10 input.sk-hidden--visually {border: 0;clip: rect(1px 1px 1px 1px);clip: rect(1px, 1px, 1px, 1px);height: 1px;margin: -1px;overflow: hidden;padding: 0;position: absolute;width: 1px;}#sk-container-id-10 div.sk-estimator {font-family: monospace;background-color: #f0f8ff;border: 1px dotted black;border-radius: 0.25em;box-sizing: border-box;margin-bottom: 0.5em;}#sk-container-id-10 div.sk-estimator:hover {background-color: #d4ebff;}#sk-container-id-10 div.sk-parallel-item::after {content: \"\";width: 100%;border-bottom: 1px solid gray;flex-grow: 1;}#sk-container-id-10 div.sk-label:hover label.sk-toggleable__label {background-color: #d4ebff;}#sk-container-id-10 div.sk-serial::before {content: \"\";position: absolute;border-left: 1px solid gray;box-sizing: border-box;top: 0;bottom: 0;left: 50%;z-index: 0;}#sk-container-id-10 div.sk-serial {display: flex;flex-direction: column;align-items: center;background-color: white;padding-right: 0.2em;padding-left: 0.2em;position: relative;}#sk-container-id-10 div.sk-item {position: relative;z-index: 1;}#sk-container-id-10 div.sk-parallel {display: flex;align-items: stretch;justify-content: center;background-color: white;position: relative;}#sk-container-id-10 div.sk-item::before, #sk-container-id-10 div.sk-parallel-item::before {content: \"\";position: absolute;border-left: 1px solid gray;box-sizing: border-box;top: 0;bottom: 0;left: 50%;z-index: -1;}#sk-container-id-10 div.sk-parallel-item {display: flex;flex-direction: column;z-index: 1;position: relative;background-color: white;}#sk-container-id-10 div.sk-parallel-item:first-child::after {align-self: flex-end;width: 50%;}#sk-container-id-10 div.sk-parallel-item:last-child::after {align-self: flex-start;width: 50%;}#sk-container-id-10 div.sk-parallel-item:only-child::after {width: 0;}#sk-container-id-10 div.sk-dashed-wrapped {border: 1px dashed gray;margin: 0 0.4em 0.5em 0.4em;box-sizing: border-box;padding-bottom: 0.4em;background-color: white;}#sk-container-id-10 div.sk-label label {font-family: monospace;font-weight: bold;display: inline-block;line-height: 1.2em;}#sk-container-id-10 div.sk-label-container {text-align: center;}#sk-container-id-10 div.sk-container {/* jupyter's `normalize.less` sets `[hidden] { display: none; }` but bootstrap.min.css set `[hidden] { display: none !important; }` so we also need the `!important` here to be able to override the default hidden behavior on the sphinx rendered scikit-learn.org. See: https://github.com/scikit-learn/scikit-learn/issues/21755 */display: inline-block !important;position: relative;}#sk-container-id-10 div.sk-text-repr-fallback {display: none;}</style><div id=\"sk-container-id-10\" class=\"sk-top-container\"><div class=\"sk-text-repr-fallback\"><pre>KNeighborsClassifier(n_neighbors=15)</pre><b>In a Jupyter environment, please rerun this cell to show the HTML representation or trust the notebook. <br />On GitHub, the HTML representation is unable to render, please try loading this page with nbviewer.org.</b></div><div class=\"sk-container\" hidden><div class=\"sk-item\"><div class=\"sk-estimator sk-toggleable\"><input class=\"sk-toggleable__control sk-hidden--visually\" id=\"sk-estimator-id-10\" type=\"checkbox\" checked><label for=\"sk-estimator-id-10\" class=\"sk-toggleable__label sk-toggleable__label-arrow\">KNeighborsClassifier</label><div class=\"sk-toggleable__content\"><pre>KNeighborsClassifier(n_neighbors=15)</pre></div></div></div></div></div>"
      ],
      "text/plain": [
       "KNeighborsClassifier(n_neighbors=15)"
      ]
     },
     "execution_count": 65,
     "metadata": {},
     "output_type": "execute_result"
    }
   ],
   "source": [
    "knn= KNeighborsClassifier(n_neighbors=2)  \n",
    "knn.fit(X_train, y_train) "
   ]
  },
  {
   "cell_type": "code",
   "execution_count": 66,
   "id": "dcd090f3",
   "metadata": {},
   "outputs": [
    {
     "data": {
      "text/plain": [
       "0.9384615384615385"
      ]
     },
     "execution_count": 66,
     "metadata": {},
     "output_type": "execute_result"
    }
   ],
   "source": [
    "knn.score(X_test,y_test)"
   ]
  },
  {
   "cell_type": "code",
   "execution_count": 67,
   "id": "5115c44d",
   "metadata": {},
   "outputs": [
    {
     "data": {
      "text/plain": [
       "0.8717948717948718"
      ]
     },
     "execution_count": 67,
     "metadata": {},
     "output_type": "execute_result"
    }
   ],
   "source": [
    "knn.score(X_train,y_train)"
   ]
  },
  {
   "cell_type": "code",
   "execution_count": 68,
   "id": "7bcb1115",
   "metadata": {},
   "outputs": [
    {
     "data": {
      "text/plain": [
       "Text(0, 0.5, 'Accuary')"
      ]
     },
     "execution_count": 68,
     "metadata": {},
     "output_type": "execute_result"
    },
    {
     "data": {
      "image/png": "[encoded data removed]",
      "text/plain": [
       "<Figure size 1000x600 with 1 Axes>"
      ]
     },
     "metadata": {},
     "output_type": "display_data"
    }
   ],
   "source": [
    "scores = []\n",
    "# Calculating accuary for K values between 1 and 30\n",
    "for i in range(1, 30):\n",
    "    knn2= KNeighborsClassifier(n_neighbors=i)  \n",
    "    knn2.fit(X_train, y_train) \n",
    "    score = knn2.score(X_test,y_test)\n",
    "    scores.append((score))\n",
    "\n",
    "plt.figure(figsize=(10, 6))\n",
    "plt.plot(range(1, 30), scores, color='red', linestyle='dashed', marker='o',\n",
    "         markerfacecolor='blue', markersize=10)\n",
    "plt.xlabel('K Value')\n",
    "plt.ylabel('Accuary')"
   ]
  },
  {
   "cell_type": "code",
   "execution_count": 69,
   "id": "9337c484",
   "metadata": {},
   "outputs": [
    {
     "data": {
      "image/png": "[encoded data removed]",
      "text/plain": [
       "<Figure size 640x480 with 2 Axes>"
      ]
     },
     "metadata": {},
     "output_type": "display_data"
    }
   ],
   "source": [
    "from sklearn.metrics import confusion_matrix  \n",
    "y_pred = knn.predict(X_test)\n",
    "cm=confusion_matrix(y_test, y_pred)  \n",
    "#Plot the confusion matrix.\n",
    "sns.heatmap(cm,annot=True,fmt='g')\n",
    "plt.ylabel('Prediction',fontsize=13)\n",
    "plt.xlabel('Actual',fontsize=13)\n",
    "plt.title('Confusion Matrix',fontsize=17)\n",
    "plt.show()"
   ]
  },
  {
   "cell_type": "code",
   "execution_count": 70,
   "id": "2477c776",
   "metadata": {},
   "outputs": [
    {
     "data": {
      "text/plain": [
       "1.0"
      ]
     },
     "execution_count": 70,
     "metadata": {},
     "output_type": "execute_result"
    }
   ],
   "source": [
    "precision = precision_score(y_test, y_pred)\n",
    "precision"
   ]
  },
  {
   "cell_type": "code",
   "execution_count": 71,
   "id": "d9e0e5ec",
   "metadata": {},
   "outputs": [
    {
     "data": {
      "text/plain": [
       "0.875"
      ]
     },
     "execution_count": 71,
     "metadata": {},
     "output_type": "execute_result"
    }
   ],
   "source": [
    "sensitivity = recall_score(y_test, y_pred)\n",
    "sensitivity"
   ]
  },
  {
   "cell_type": "code",
   "execution_count": 72,
   "id": "81102afb",
   "metadata": {},
   "outputs": [
    {
     "data": {
      "text/plain": [
       "1.0"
      ]
     },
     "execution_count": 72,
     "metadata": {},
     "output_type": "execute_result"
    }
   ],
   "source": [
    "# Extract true negative and false positive values from confusion matrix\n",
    "tn, fp, fn, tp = cm.ravel()\n",
    "\n",
    "# Calculate specificity\n",
    "specificity = tn / (tn + fp)\n",
    "specificity"
   ]
  },
  {
   "cell_type": "code",
   "execution_count": null,
   "id": "fa7467e2",
   "metadata": {},
   "outputs": [],
   "source": []
  }
 ],
 "metadata": {
  "kernelspec": {
   "display_name": "Python 3 (ipykernel)",
   "language": "python",
   "name": "python3"
  },
  "language_info": {
   "codemirror_mode": {
    "name": "ipython",
    "version": 3
   },
   "file_extension": ".py",
   "mimetype": "text/x-python",
   "name": "python",
   "nbconvert_exporter": "python",
   "pygments_lexer": "ipython3",
   "version": "3.11.2"
  }
 },
 "nbformat": 4,
 "nbformat_minor": 5
}
